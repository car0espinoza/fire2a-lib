{
 "cells": [
  {
   "attachments": {},
   "cell_type": "markdown",
   "id": "3a1833a6-b3ef-4f36-9783-7fea20773d3b",
   "metadata": {},
   "source": [
    "**Using fire2a template sample**\n",
    "\n",
    "* 4 ways\n",
    "* restart the kernel to make sure each runs independently\n",
    "* fire2a-lib install: https://github.com/fire2a/fire2a-lib/#quickstart\n",
    "\n",
    "## 1. Use the functions"
   ]
  },
  {
   "cell_type": "code",
   "execution_count": 1,
   "id": "f44c27f3-72c8-4c2f-80f9-122518cf2153",
   "metadata": {},
   "outputs": [
    {
     "name": "stdout",
     "output_type": "stream",
     "text": [
      "result=6.0\n"
     ]
    }
   ],
   "source": [
    "from fire2template.template import calc, cast\n",
    "\n",
    "numbers = cast([\"1\", \"2\", \"3\"])\n",
    "result = calc(\"*\", numbers)\n",
    "print(f\"{result=}\")"
   ]
  },
  {
   "cell_type": "markdown",
   "id": "9bbcfc2f-8e9f-412f-9bd9-ba86dfb00e36",
   "metadata": {},
   "source": [
    "## 2. + also watch logs\n",
    "### a. basic logging config\n",
    "Basic config modifies all loggers bluntly"
   ]
  },
  {
   "cell_type": "code",
   "execution_count": 1,
   "id": "43ad2655-7bb0-4281-a09f-ccb26f501466",
   "metadata": {},
   "outputs": [
    {
     "name": "stderr",
     "output_type": "stream",
     "text": [
      "[2024-02-04 23:03:59,455] DEBUG [fire2template.template:46] cast: before numbers=['4', '5', '6']\n",
      "[2024-02-04 23:03:59,456] DEBUG [fire2template.template:48] cast: after resp=[4.0, 5.0, 6.0]\n",
      "[2024-02-04 23:03:59,457] DEBUG [fire2template.template:54] calc: operation='*', numbers=[4.0, 5.0, 6.0]\n",
      "[2024-02-04 23:03:59,458] INFO [fire2template.template:62] attempting multiplication...\n"
     ]
    },
    {
     "name": "stdout",
     "output_type": "stream",
     "text": [
      "result=120.0\n"
     ]
    }
   ],
   "source": [
    "from fire2template.template import calc, cast\n",
    "import logging\n",
    "logging.basicConfig(level=logging.DEBUG, format=\"[%(asctime)s] %(levelname)s [%(name)s:%(lineno)s] %(message)s\")\n",
    "\n",
    "numbers = cast([\"4\", \"5\", \"6\"])\n",
    "result = calc(\"*\", numbers)\n",
    "print(f\"{result=}\")"
   ]
  },
  {
   "cell_type": "markdown",
   "id": "56d86ec8-a8e4-44de-afc9-ac74e21d1991",
   "metadata": {},
   "source": [
    "### b. fire2a logger setup\n",
    "Allow more options and integration"
   ]
  },
  {
   "cell_type": "code",
   "execution_count": 1,
   "id": "05143495-ca6b-4567-8962-d1c439e4e7f1",
   "metadata": {},
   "outputs": [
    {
     "name": "stdout",
     "output_type": "stream",
     "text": [
      "2024-02-04 23:05:02 WARNING fire2template:7 hello world!\n",
      "2024-02-04 23:05:02 DEBUG fire2template.template:46 cast: before numbers=['4', '5', '6']\n",
      "2024-02-04 23:05:02 DEBUG fire2template.template:48 cast: after resp=[4.0, 5.0, 6.0]\n",
      "2024-02-04 23:05:02 DEBUG fire2template.template:54 calc: operation='*', numbers=[4.0, 5.0, 6.0]\n",
      "2024-02-04 23:05:02 INFO fire2template.template:62 attempting multiplication...\n",
      "result=120.0\n",
      "2024-02-04 23:05:02 WARNING fire2template:13 bye world!\n"
     ]
    }
   ],
   "source": [
    "from fire2template.template import calc, cast\n",
    "from fire2template import setup_logger\n",
    "logger = setup_logger(verbosity=3)\n",
    "# DONT DO THIS: naming sets a new logger\n",
    "# logger = setup_logger('jupy',3,None)\n",
    "\n",
    "logger.warning(\"hello world!\")\n",
    "\n",
    "numbers = cast([\"4\", \"5\", \"6\"])\n",
    "result = calc(\"*\", numbers)\n",
    "print(f\"{result=}\")\n",
    "\n",
    "logger.warning(\"bye world!\")"
   ]
  },
  {
   "cell_type": "markdown",
   "id": "3352e8e4-f8c9-40ff-9fc5-e2300572545f",
   "metadata": {},
   "source": [
    "## 3. run it from main"
   ]
  },
  {
   "cell_type": "code",
   "execution_count": 1,
   "id": "3f958841-4a5e-43f1-9549-c70792fba705",
   "metadata": {},
   "outputs": [
    {
     "name": "stdout",
     "output_type": "stream",
     "text": [
      "2024-02-04 23:05:27 INFO fire2template.template:110 args=Namespace(verbosity=2, logfile=None, operation='/', numbers=['7.7', '8.8', '9.9'])\n",
      "2024-02-04 23:05:27 DEBUG fire2template.template:111 debugging...\n",
      "2024-02-04 23:05:27 INFO fire2template.template:115 attempting casting to float...\n",
      "2024-02-04 23:05:27 DEBUG fire2template.template:46 cast: before numbers=['7.7', '8.8', '9.9']\n",
      "2024-02-04 23:05:27 DEBUG fire2template.template:48 cast: after resp=[7.7, 8.8, 9.9]\n",
      "2024-02-04 23:05:27 INFO fire2template.template:117 attempting mock calculator...\n",
      "2024-02-04 23:05:27 DEBUG fire2template.template:54 calc: operation='/', numbers=[7.7, 8.8, 9.9]\n",
      "2024-02-04 23:05:27 INFO fire2template.template:65 attempting division by the last non zero in the list...\n",
      "2024-02-04 23:05:27 DEBUG fire2template.template:67 try dividend=9.9\n",
      "2024-02-04 23:05:27 DEBUG fire2template.template:71 got dividend=9.9\n",
      "2024-02-04 23:05:27 INFO fire2template.template:119 result=array([0.88888889, 1.        ])\n",
      "result=array([0.88888889, 1.        ])\n",
      "success\n"
     ]
    }
   ],
   "source": [
    "from fire2template.template import main\n",
    "\n",
    "if 0==main([\"-vv\",\"--operation\", \"/\",\"7.7\", \"8.8\", \"9.9\"]):\n",
    "    print(\"success\")"
   ]
  },
  {
   "cell_type": "markdown",
   "id": "72e8baf4-3c75-4442-84ac-0ece353d0026",
   "metadata": {},
   "source": [
    "## 4. run it from command line\n",
    "'*' globs in command line so must be quoted"
   ]
  },
  {
   "cell_type": "code",
   "execution_count": 1,
   "id": "745fe07f-39b3-4a0b-b0cb-50078cede165",
   "metadata": {},
   "outputs": [
    {
     "name": "stdout",
     "output_type": "stream",
     "text": [
      "2024-02-04 23:05:37 INFO __main__:110 args=Namespace(verbosity=1, logfile=None, operation='*', numbers=['7.7', '8.8', '9.9'])\n",
      "2024-02-04 23:05:37 INFO __main__:115 attempting casting to float...\n",
      "2024-02-04 23:05:37 INFO __main__:117 attempting mock calculator...\n",
      "2024-02-04 23:05:37 INFO __main__:62 attempting multiplication...\n",
      "2024-02-04 23:05:37 INFO __main__:119 result=670.8240000000001\n",
      "result=670.8240000000001\n"
     ]
    }
   ],
   "source": [
    "! python3 -m fire2template.template -v --operation '*' 7.7 8.8 9.9"
   ]
  },
  {
   "cell_type": "code",
   "execution_count": null,
   "id": "64b95808-4ba4-4448-b1e2-cee6f3089f5c",
   "metadata": {},
   "outputs": [],
   "source": []
  }
 ],
 "metadata": {
  "jupytext": {
   "cell_metadata_filter": "-all",
   "executable": "python3",
   "main_language": "python",
   "notebook_metadata_filter": "-all"
  },
  "kernelspec": {
   "display_name": "Python 3 (ipykernel)",
   "language": "python",
   "name": "python3"
  },
  "language_info": {
   "codemirror_mode": {
    "name": "ipython",
    "version": 3
   },
   "file_extension": ".py",
   "mimetype": "text/x-python",
   "name": "python",
   "nbconvert_exporter": "python",
   "pygments_lexer": "ipython3",
   "version": "3.11.2"
  }
 },
 "nbformat": 4,
 "nbformat_minor": 5
}
