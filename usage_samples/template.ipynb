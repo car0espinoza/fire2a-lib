{
 "cells": [
  {
   "attachments": {},
   "cell_type": "markdown",
   "id": "3a1833a6-b3ef-4f36-9783-7fea20773d3b",
   "metadata": {},
   "source": [
    "**Using fire2a template sample**\n",
    "\n",
    "* 4 ways\n",
    "* restart the kernel to make sure each runs independently\n",
    "* fire2a-lib install: https://github.com/fire2a/fire2a-lib/#quickstart\n",
    "\n",
    "## 1. Use the functions"
   ]
  },
  {
   "cell_type": "code",
   "execution_count": 1,
   "id": "f44c27f3-72c8-4c2f-80f9-122518cf2153",
   "metadata": {},
   "outputs": [
    {
     "name": "stdout",
     "output_type": "stream",
     "text": [
      "result=6.0\n"
     ]
    }
   ],
   "source": [
    "from fire2template.template import calc, cast\n",
    "\n",
    "numbers = cast([\"1\", \"2\", \"3\"])\n",
    "result = calc(\"*\", numbers)\n",
    "print(f\"{result=}\")"
   ]
  },
  {
   "cell_type": "markdown",
   "id": "9bbcfc2f-8e9f-412f-9bd9-ba86dfb00e36",
   "metadata": {},
   "source": [
    "## 2. + also watch logs"
   ]
  },
  {
   "cell_type": "code",
   "execution_count": 2,
   "id": "43ad2655-7bb0-4281-a09f-ccb26f501466",
   "metadata": {},
   "outputs": [
    {
     "name": "stderr",
     "output_type": "stream",
     "text": [
      "[2024-02-04 19:24:01,229] DEBUG [fire2template.template:44] cast: before numbers=['4', '5', '6']\n",
      "[2024-02-04 19:24:01,233] DEBUG [fire2template.template:46] cast: after resp=[4.0, 5.0, 6.0]\n",
      "[2024-02-04 19:24:01,234] DEBUG [fire2template.template:52] calc: operation='*', numbers=[4.0, 5.0, 6.0]\n",
      "[2024-02-04 19:24:01,235] INFO [fire2template.template:60] attempting multiplication...\n"
     ]
    },
    {
     "name": "stdout",
     "output_type": "stream",
     "text": [
      "result=120.0\n"
     ]
    }
   ],
   "source": [
    "from fire2template.template import calc, cast\n",
    "import logging\n",
    "logging.basicConfig(level=logging.DEBUG, format=\"[%(asctime)s] %(levelname)s [%(name)s:%(lineno)s] %(message)s\")\n",
    "\n",
    "numbers = cast([\"4\", \"5\", \"6\"])\n",
    "result = calc(\"*\", numbers)\n",
    "print(f\"{result=}\")"
   ]
  },
  {
   "cell_type": "markdown",
   "id": "3352e8e4-f8c9-40ff-9fc5-e2300572545f",
   "metadata": {},
   "source": [
    "## 3. run it from main"
   ]
  },
  {
   "cell_type": "code",
   "execution_count": 1,
   "id": "3f958841-4a5e-43f1-9549-c70792fba705",
   "metadata": {},
   "outputs": [
    {
     "name": "stdout",
     "output_type": "stream",
     "text": [
      "2024-02-04 19:24:46 INFO fire2template:templatemodule:148 args=Namespace(verbosity=2, logfile=None, operation='/', numbers=['7.7', '8.8', '9.9'])\n",
      "2024-02-04 19:24:46 DEBUG fire2template:templatemodule:149 debugging...\n",
      "2024-02-04 19:24:46 INFO fire2template:templatemodule:153 attempting casting to float...\n",
      "2024-02-04 19:24:46 DEBUG fire2template:templatemodule:44 cast: before numbers=['7.7', '8.8', '9.9']\n",
      "2024-02-04 19:24:46 DEBUG fire2template:templatemodule:46 cast: after resp=[7.7, 8.8, 9.9]\n",
      "2024-02-04 19:24:46 INFO fire2template:templatemodule:155 attempting mock calculator...\n",
      "2024-02-04 19:24:46 DEBUG fire2template:templatemodule:52 calc: operation='/', numbers=[7.7, 8.8, 9.9]\n",
      "2024-02-04 19:24:46 INFO fire2template:templatemodule:63 attempting division by the last non zero in the list...\n",
      "2024-02-04 19:24:46 DEBUG fire2template:templatemodule:65 try dividend=9.9\n",
      "2024-02-04 19:24:46 DEBUG fire2template:templatemodule:69 got dividend=9.9\n",
      "2024-02-04 19:24:46 INFO fire2template:templatemodule:157 result=array([0.88888889, 1.        ])\n",
      "result=array([0.88888889, 1.        ])\n",
      "success\n"
     ]
    }
   ],
   "source": [
    "from fire2template.template import main\n",
    "\n",
    "if 0==main([\"-vv\",\"--operation\", \"/\",\"7.7\", \"8.8\", \"9.9\"]):\n",
    "    print(\"success\")"
   ]
  },
  {
   "cell_type": "markdown",
   "id": "72e8baf4-3c75-4442-84ac-0ece353d0026",
   "metadata": {},
   "source": [
    "## 4. run it from command line\n",
    "'*' globs in command line so must be quoted"
   ]
  },
  {
   "cell_type": "code",
   "execution_count": 4,
   "id": "745fe07f-39b3-4a0b-b0cb-50078cede165",
   "metadata": {},
   "outputs": [
    {
     "name": "stdout",
     "output_type": "stream",
     "text": [
      "2024-02-04 19:34:35 INFO fire2template:templatemodule:148 args=Namespace(verbosity=1, logfile=None, operation='*', numbers=['7.7', '8.8', '9.9'])\n",
      "2024-02-04 19:34:35 INFO fire2template:templatemodule:153 attempting casting to float...\n",
      "2024-02-04 19:34:35 INFO fire2template:templatemodule:155 attempting mock calculator...\n",
      "2024-02-04 19:34:35 INFO fire2template:templatemodule:60 attempting multiplication...\n",
      "2024-02-04 19:34:35 INFO fire2template:templatemodule:157 result=670.8240000000001\n",
      "result=670.8240000000001\n"
     ]
    }
   ],
   "source": [
    "! python3 -m fire2template.template -v --operation '*' 7.7 8.8 9.9"
   ]
  }
 ],
 "metadata": {
  "jupytext": {
   "cell_metadata_filter": "-all",
   "executable": "python3",
   "main_language": "python",
   "notebook_metadata_filter": "-all"
  },
  "kernelspec": {
   "display_name": "Python 3 (ipykernel)",
   "language": "python",
   "name": "python3"
  },
  "language_info": {
   "codemirror_mode": {
    "name": "ipython",
    "version": 3
   },
   "file_extension": ".py",
   "mimetype": "text/x-python",
   "name": "python",
   "nbconvert_exporter": "python",
   "pygments_lexer": "ipython3",
   "version": "3.11.2"
  }
 },
 "nbformat": 4,
 "nbformat_minor": 5
}
